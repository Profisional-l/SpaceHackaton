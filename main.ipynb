{
 "cells": [
  {
   "metadata": {},
   "cell_type": "markdown",
   "source": "# SpaceHackathon",
   "id": "e09ecc233c9e1cbc"
  },
  {
   "metadata": {
    "ExecuteTime": {
     "end_time": "2024-11-27T08:21:41.398484Z",
     "start_time": "2024-11-27T08:21:41.395765Z"
    }
   },
   "cell_type": "code",
   "source": [
    "import os.path\n",
    "videosets_path = os.path.abspath('tests\\\\step1')    # путь к папке с видеосетами\n",
    "videoset = 1 # номер видеосета"
   ],
   "id": "9dcee4e7bf83f875",
   "outputs": [],
   "execution_count": 2
  },
  {
   "metadata": {},
   "cell_type": "markdown",
   "source": "### Обработка Excel-таблицы с настройками камер",
   "id": "d8ef6d2528c5d78f"
  },
  {
   "cell_type": "code",
   "id": "initial_id",
   "metadata": {
    "collapsed": true
   },
   "source": [
    "from excel import parse_camera_settings\n",
    "\n",
    "excel_read_path = videosets_path + f'\\\\videoset{videoset}\\\\Seq{videoset}_settings.xlsx'\n",
    "\n",
    "cd = parse_camera_settings(excel_read_path, videoset)\n",
    "camera_data = list(cd.values())"
   ],
   "outputs": [],
   "execution_count": null
  },
  {
   "metadata": {},
   "cell_type": "markdown",
   "source": "### Сбор видеофайлов и подготовка к обработке",
   "id": "2303a762b89fbcfa"
  },
  {
   "metadata": {
    "ExecuteTime": {
     "end_time": "2024-11-27T08:21:45.758787Z",
     "start_time": "2024-11-27T08:21:45.552449Z"
    }
   },
   "cell_type": "code",
   "source": [
    "from video_processing import VideoProcessor\n",
    "\n",
    "video_processors = []\n",
    "video_processors_t = []\n",
    "\n",
    "for i in range(3):\n",
    "    video_path = videosets_path + f'\\\\videoset{videoset}\\\\Seq{videoset}_camera{i+1}.mov'\n",
    "    video_path_t = videosets_path + f'\\\\videoset{videoset}\\\\Seq{videoset}_camera{i+1}T.mov'\n",
    "    video_processors.append(VideoProcessor(video_path, camera_data[i], 'rgb'))\n",
    "    video_processors_t.append(VideoProcessor(video_path_t, camera_data[i], 'ir'))"
   ],
   "id": "d2253ceac1126085",
   "outputs": [],
   "execution_count": 4
  },
  {
   "metadata": {},
   "cell_type": "markdown",
   "source": "### Обработка видеофайлов",
   "id": "5ff5eeb4cd35ab66"
  },
  {
   "metadata": {
    "ExecuteTime": {
     "end_time": "2024-11-27T08:22:41.672415Z",
     "start_time": "2024-11-27T08:21:49.142674Z"
    }
   },
   "cell_type": "code",
   "source": [
    "from concurrent.futures import ThreadPoolExecutor\n",
    "\n",
    "coords_from_rgb = []\n",
    "coords_from_ir = []\n",
    "\n",
    "with ThreadPoolExecutor(max_workers=3) as executor:\n",
    "    futures = [executor.submit(lambda vp: vp.get_all_coords(), vp) for i, vp in enumerate(video_processors)]\n",
    "    for future in futures:\n",
    "        coords_from_rgb.append(future.result())\n",
    "\n",
    "with ThreadPoolExecutor(max_workers=3) as executor:\n",
    "    futures = [executor.submit(lambda vp: vp.get_all_coords(), vp) for i, vp in enumerate(video_processors_t)]\n",
    "    for future in futures:\n",
    "        coords_from_ir.append(future.result())"
   ],
   "id": "522713a6e6b12964",
   "outputs": [],
   "execution_count": 5
  },
  {
   "metadata": {},
   "cell_type": "markdown",
   "source": "### Отображение результатов обработки видеофайлов",
   "id": "bdaa169a24d4872a"
  },
  {
   "metadata": {
    "ExecuteTime": {
     "end_time": "2024-11-27T08:24:27.403913Z",
     "start_time": "2024-11-27T08:24:27.393480Z"
    }
   },
   "cell_type": "code",
   "source": [
    "import pandas as pd\n",
    "df1 = pd.DataFrame([data if data is not None else  {'x':float('nan'),'y':float('nan'),'diameter':float('nan')} for data in coords_from_rgb[0]])\n",
    "df2 = pd.DataFrame([data if data is not None else  {'x':float('nan'),'y':float('nan'),'diameter':float('nan')} for data in coords_from_rgb[1]])\n",
    "df3 = pd.DataFrame([data if data is not None else  {'x':float('nan'),'y':float('nan'),'diameter':float('nan')} for data in coords_from_rgb[2]])\n",
    "df2"
   ],
   "id": "f85e71ade84365b4",
   "outputs": [
    {
     "data": {
      "text/plain": [
       "      x   y  diameter\n",
       "0   NaN NaN       NaN\n",
       "1   NaN NaN       NaN\n",
       "2   NaN NaN       NaN\n",
       "3   NaN NaN       NaN\n",
       "4   NaN NaN       NaN\n",
       "..   ..  ..       ...\n",
       "237 NaN NaN       NaN\n",
       "238 NaN NaN       NaN\n",
       "239 NaN NaN       NaN\n",
       "240 NaN NaN       NaN\n",
       "241 NaN NaN       NaN\n",
       "\n",
       "[242 rows x 3 columns]"
      ],
      "text/html": [
       "<div>\n",
       "<style scoped>\n",
       "    .dataframe tbody tr th:only-of-type {\n",
       "        vertical-align: middle;\n",
       "    }\n",
       "\n",
       "    .dataframe tbody tr th {\n",
       "        vertical-align: top;\n",
       "    }\n",
       "\n",
       "    .dataframe thead th {\n",
       "        text-align: right;\n",
       "    }\n",
       "</style>\n",
       "<table border=\"1\" class=\"dataframe\">\n",
       "  <thead>\n",
       "    <tr style=\"text-align: right;\">\n",
       "      <th></th>\n",
       "      <th>x</th>\n",
       "      <th>y</th>\n",
       "      <th>diameter</th>\n",
       "    </tr>\n",
       "  </thead>\n",
       "  <tbody>\n",
       "    <tr>\n",
       "      <th>0</th>\n",
       "      <td>NaN</td>\n",
       "      <td>NaN</td>\n",
       "      <td>NaN</td>\n",
       "    </tr>\n",
       "    <tr>\n",
       "      <th>1</th>\n",
       "      <td>NaN</td>\n",
       "      <td>NaN</td>\n",
       "      <td>NaN</td>\n",
       "    </tr>\n",
       "    <tr>\n",
       "      <th>2</th>\n",
       "      <td>NaN</td>\n",
       "      <td>NaN</td>\n",
       "      <td>NaN</td>\n",
       "    </tr>\n",
       "    <tr>\n",
       "      <th>3</th>\n",
       "      <td>NaN</td>\n",
       "      <td>NaN</td>\n",
       "      <td>NaN</td>\n",
       "    </tr>\n",
       "    <tr>\n",
       "      <th>4</th>\n",
       "      <td>NaN</td>\n",
       "      <td>NaN</td>\n",
       "      <td>NaN</td>\n",
       "    </tr>\n",
       "    <tr>\n",
       "      <th>...</th>\n",
       "      <td>...</td>\n",
       "      <td>...</td>\n",
       "      <td>...</td>\n",
       "    </tr>\n",
       "    <tr>\n",
       "      <th>237</th>\n",
       "      <td>NaN</td>\n",
       "      <td>NaN</td>\n",
       "      <td>NaN</td>\n",
       "    </tr>\n",
       "    <tr>\n",
       "      <th>238</th>\n",
       "      <td>NaN</td>\n",
       "      <td>NaN</td>\n",
       "      <td>NaN</td>\n",
       "    </tr>\n",
       "    <tr>\n",
       "      <th>239</th>\n",
       "      <td>NaN</td>\n",
       "      <td>NaN</td>\n",
       "      <td>NaN</td>\n",
       "    </tr>\n",
       "    <tr>\n",
       "      <th>240</th>\n",
       "      <td>NaN</td>\n",
       "      <td>NaN</td>\n",
       "      <td>NaN</td>\n",
       "    </tr>\n",
       "    <tr>\n",
       "      <th>241</th>\n",
       "      <td>NaN</td>\n",
       "      <td>NaN</td>\n",
       "      <td>NaN</td>\n",
       "    </tr>\n",
       "  </tbody>\n",
       "</table>\n",
       "<p>242 rows × 3 columns</p>\n",
       "</div>"
      ]
     },
     "execution_count": 7,
     "metadata": {},
     "output_type": "execute_result"
    }
   ],
   "execution_count": 7
  },
  {
   "metadata": {},
   "cell_type": "markdown",
   "source": "### TODO: Сделать анализ данных и сохранение результатов",
   "id": "79dabe4e06a6561e"
  }
 ],
 "metadata": {
  "kernelspec": {
   "display_name": "Python 3",
   "language": "python",
   "name": "python3"
  },
  "language_info": {
   "codemirror_mode": {
    "name": "ipython",
    "version": 2
   },
   "file_extension": ".py",
   "mimetype": "text/x-python",
   "name": "python",
   "nbconvert_exporter": "python",
   "pygments_lexer": "ipython2",
   "version": "2.7.6"
  }
 },
 "nbformat": 4,
 "nbformat_minor": 5
}
