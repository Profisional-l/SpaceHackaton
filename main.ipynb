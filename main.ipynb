{
 "cells": [
  {
   "metadata": {},
   "cell_type": "markdown",
   "source": "# SpaceHackathon",
   "id": "e09ecc233c9e1cbc"
  },
  {
   "metadata": {
    "ExecuteTime": {
     "end_time": "2024-11-28T06:10:37.373925Z",
     "start_time": "2024-11-28T06:10:37.370403Z"
    }
   },
   "cell_type": "code",
   "source": [
    "import os.path\n",
    "videosets_path = os.path.abspath('tests\\\\step1')    # путь к папке с видеосетами\n",
    "videoset = 1 # номер видеосета"
   ],
   "id": "9dcee4e7bf83f875",
   "outputs": [],
   "execution_count": 2
  },
  {
   "metadata": {},
   "cell_type": "markdown",
   "source": "### Обработка Excel-таблицы с настройками камер",
   "id": "d8ef6d2528c5d78f"
  },
  {
   "cell_type": "code",
   "id": "initial_id",
   "metadata": {
    "collapsed": true,
    "ExecuteTime": {
     "end_time": "2024-11-28T06:10:40.590722Z",
     "start_time": "2024-11-28T06:10:40.115776Z"
    }
   },
   "source": [
    "from excel import parse_camera_settings\n",
    "\n",
    "excel_read_path = videosets_path + f'\\\\videoset{videoset}\\\\Seq{videoset}_settings.xlsx'\n",
    "\n",
    "cd = parse_camera_settings(excel_read_path, videoset)\n",
    "camera_data = list(cd.values())"
   ],
   "outputs": [
    {
     "name": "stderr",
     "output_type": "stream",
     "text": [
      "D:\\Projects\\Python\\SpaceHackaton\\.venv\\Lib\\site-packages\\openpyxl\\worksheet\\_reader.py:329: UserWarning: Unknown extension is not supported and will be removed\n",
      "  warn(msg)\n",
      "D:\\Projects\\Python\\SpaceHackaton\\.venv\\Lib\\site-packages\\openpyxl\\worksheet\\_reader.py:329: UserWarning: Conditional Formatting extension is not supported and will be removed\n",
      "  warn(msg)\n"
     ]
    }
   ],
   "execution_count": 3
  },
  {
   "metadata": {},
   "cell_type": "markdown",
   "source": "### Сбор видеофайлов и подготовка к обработке",
   "id": "2303a762b89fbcfa"
  },
  {
   "metadata": {
    "ExecuteTime": {
     "end_time": "2024-11-28T06:10:43.327334Z",
     "start_time": "2024-11-28T06:10:42.885449Z"
    }
   },
   "cell_type": "code",
   "source": [
    "from video_processing import VideoProcessor\n",
    "\n",
    "video_processors = []\n",
    "video_processors_t = []\n",
    "\n",
    "for i in range(3):\n",
    "    video_path = videosets_path + f'\\\\videoset{videoset}\\\\Seq{videoset}_camera{i+1}.mov'\n",
    "    video_path_t = videosets_path + f'\\\\videoset{videoset}\\\\Seq{videoset}_camera{i+1}T.mov'\n",
    "    video_processors.append(VideoProcessor(video_path, camera_data[i], 'rgb'))\n",
    "    video_processors_t.append(VideoProcessor(video_path_t, camera_data[i], 'ir'))"
   ],
   "id": "d2253ceac1126085",
   "outputs": [],
   "execution_count": 4
  },
  {
   "metadata": {},
   "cell_type": "markdown",
   "source": "### Обработка видеофайлов",
   "id": "5ff5eeb4cd35ab66"
  },
  {
   "metadata": {
    "ExecuteTime": {
     "end_time": "2024-11-28T06:11:33.223496Z",
     "start_time": "2024-11-28T06:10:45.502576Z"
    }
   },
   "cell_type": "code",
   "source": [
    "from concurrent.futures import ThreadPoolExecutor\n",
    "\n",
    "coords_from_rgb = []\n",
    "coords_from_ir = []\n",
    "\n",
    "with ThreadPoolExecutor(max_workers=3) as executor:\n",
    "    futures = [executor.submit(lambda vp: vp.get_all_coords(), vp) for i, vp in enumerate(video_processors)]\n",
    "    for future in futures:\n",
    "        coords_from_rgb.append(future.result())\n",
    "\n",
    "with ThreadPoolExecutor(max_workers=3) as executor:\n",
    "    futures = [executor.submit(lambda vp: vp.get_all_coords(), vp) for i, vp in enumerate(video_processors_t)]\n",
    "    for future in futures:\n",
    "        coords_from_ir.append(future.result())"
   ],
   "id": "522713a6e6b12964",
   "outputs": [],
   "execution_count": 5
  },
  {
   "metadata": {},
   "cell_type": "markdown",
   "source": "### Отображение результатов обработки видеофайлов",
   "id": "bdaa169a24d4872a"
  },
  {
   "metadata": {
    "ExecuteTime": {
     "end_time": "2024-11-28T06:16:42.053445Z",
     "start_time": "2024-11-28T06:16:42.027897Z"
    }
   },
   "cell_type": "code",
   "source": [
    "import pandas as pd\n",
    "df1 = pd.DataFrame([data if data is not None else  {'x':float('nan'),'y':float('nan'),'diameter':float('nan')} for data in coords_from_rgb[0]])\n",
    "df2 = pd.DataFrame([data if data is not None else  {'x':float('nan'),'y':float('nan'),'diameter':float('nan')} for data in coords_from_rgb[1]])\n",
    "df3 = pd.DataFrame([data if data is not None else  {'x':float('nan'),'y':float('nan'),'diameter':float('nan')} for data in coords_from_rgb[2]])\n",
    "df1"
   ],
   "id": "f85e71ade84365b4",
   "outputs": [
    {
     "data": {
      "text/plain": [
       "              x           y    diameter\n",
       "0           NaN         NaN         NaN\n",
       "1   -960.000000 -540.000000  249.451599\n",
       "2           NaN         NaN         NaN\n",
       "3           NaN         NaN         NaN\n",
       "4           NaN         NaN         NaN\n",
       "..          ...         ...         ...\n",
       "241  384.185669  147.446106   20.248657\n",
       "242  378.732422  152.188416   22.827808\n",
       "243  373.131470  157.540649   20.615728\n",
       "244  367.692871  162.257385   21.095222\n",
       "245  362.372681  168.401428   22.203804\n",
       "\n",
       "[246 rows x 3 columns]"
      ],
      "text/html": [
       "<div>\n",
       "<style scoped>\n",
       "    .dataframe tbody tr th:only-of-type {\n",
       "        vertical-align: middle;\n",
       "    }\n",
       "\n",
       "    .dataframe tbody tr th {\n",
       "        vertical-align: top;\n",
       "    }\n",
       "\n",
       "    .dataframe thead th {\n",
       "        text-align: right;\n",
       "    }\n",
       "</style>\n",
       "<table border=\"1\" class=\"dataframe\">\n",
       "  <thead>\n",
       "    <tr style=\"text-align: right;\">\n",
       "      <th></th>\n",
       "      <th>x</th>\n",
       "      <th>y</th>\n",
       "      <th>diameter</th>\n",
       "    </tr>\n",
       "  </thead>\n",
       "  <tbody>\n",
       "    <tr>\n",
       "      <th>0</th>\n",
       "      <td>NaN</td>\n",
       "      <td>NaN</td>\n",
       "      <td>NaN</td>\n",
       "    </tr>\n",
       "    <tr>\n",
       "      <th>1</th>\n",
       "      <td>-960.000000</td>\n",
       "      <td>-540.000000</td>\n",
       "      <td>249.451599</td>\n",
       "    </tr>\n",
       "    <tr>\n",
       "      <th>2</th>\n",
       "      <td>NaN</td>\n",
       "      <td>NaN</td>\n",
       "      <td>NaN</td>\n",
       "    </tr>\n",
       "    <tr>\n",
       "      <th>3</th>\n",
       "      <td>NaN</td>\n",
       "      <td>NaN</td>\n",
       "      <td>NaN</td>\n",
       "    </tr>\n",
       "    <tr>\n",
       "      <th>4</th>\n",
       "      <td>NaN</td>\n",
       "      <td>NaN</td>\n",
       "      <td>NaN</td>\n",
       "    </tr>\n",
       "    <tr>\n",
       "      <th>...</th>\n",
       "      <td>...</td>\n",
       "      <td>...</td>\n",
       "      <td>...</td>\n",
       "    </tr>\n",
       "    <tr>\n",
       "      <th>241</th>\n",
       "      <td>384.185669</td>\n",
       "      <td>147.446106</td>\n",
       "      <td>20.248657</td>\n",
       "    </tr>\n",
       "    <tr>\n",
       "      <th>242</th>\n",
       "      <td>378.732422</td>\n",
       "      <td>152.188416</td>\n",
       "      <td>22.827808</td>\n",
       "    </tr>\n",
       "    <tr>\n",
       "      <th>243</th>\n",
       "      <td>373.131470</td>\n",
       "      <td>157.540649</td>\n",
       "      <td>20.615728</td>\n",
       "    </tr>\n",
       "    <tr>\n",
       "      <th>244</th>\n",
       "      <td>367.692871</td>\n",
       "      <td>162.257385</td>\n",
       "      <td>21.095222</td>\n",
       "    </tr>\n",
       "    <tr>\n",
       "      <th>245</th>\n",
       "      <td>362.372681</td>\n",
       "      <td>168.401428</td>\n",
       "      <td>22.203804</td>\n",
       "    </tr>\n",
       "  </tbody>\n",
       "</table>\n",
       "<p>246 rows × 3 columns</p>\n",
       "</div>"
      ]
     },
     "execution_count": 6,
     "metadata": {},
     "output_type": "execute_result"
    }
   ],
   "execution_count": 6
  },
  {
   "metadata": {},
   "cell_type": "markdown",
   "source": "### TODO: Сделать анализ данных",
   "id": "79dabe4e06a6561e"
  },
  {
   "metadata": {},
   "cell_type": "code",
   "outputs": [],
   "execution_count": null,
   "source": "# TODO: Сделать анализ данных",
   "id": "1b3bf742f1dca4b"
  },
  {
   "metadata": {},
   "cell_type": "markdown",
   "source": "### TODO: Сделать вывод данных",
   "id": "2891415a5b195ebf"
  },
  {
   "metadata": {},
   "cell_type": "code",
   "outputs": [],
   "execution_count": null,
   "source": "# TODO: Сделать вывод данных",
   "id": "8057cff6403081ec"
  },
  {
   "metadata": {},
   "cell_type": "markdown",
   "source": "### TODO: Сделать сохранение данных",
   "id": "9ba7d77484a908fc"
  },
  {
   "metadata": {},
   "cell_type": "code",
   "outputs": [],
   "execution_count": null,
   "source": "# TODO: Сделать сохранение данных",
   "id": "af5a4aa4c74ca7a0"
  }
 ],
 "metadata": {
  "kernelspec": {
   "display_name": "Python 3",
   "language": "python",
   "name": "python3"
  },
  "language_info": {
   "codemirror_mode": {
    "name": "ipython",
    "version": 2
   },
   "file_extension": ".py",
   "mimetype": "text/x-python",
   "name": "python",
   "nbconvert_exporter": "python",
   "pygments_lexer": "ipython2",
   "version": "2.7.6"
  }
 },
 "nbformat": 4,
 "nbformat_minor": 5
}
